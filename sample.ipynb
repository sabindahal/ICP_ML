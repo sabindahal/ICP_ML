{
 "cells": [
  {
   "cell_type": "markdown",
   "id": "9bede1c2",
   "metadata": {},
   "source": [
    "**CS 8001: Designing End-to-End ML System**"
   ]
  },
  {
   "cell_type": "code",
   "execution_count": null,
   "id": "e2807ad8",
   "metadata": {},
   "outputs": [],
   "source": [
    "import cv2\n",
    "import numpy as np\n",
    "import pytesseract\n",
    "import easyocr\n",
    "from PIL import Image\n",
    "from datasets import load_dataset"
   ]
  },
  {
   "cell_type": "code",
   "execution_count": null,
   "id": "e5590eac",
   "metadata": {},
   "outputs": [],
   "source": [
    "print(\"--- Loading dataset 'lansinuote/ocr_id_card' ---\")\n",
    "try:\n",
    "    ds = load_dataset(\"lansinuote/ocr_id_card\", split='train')\n",
    "    print(\"Dataset loaded successfully.\")\n",
    "except Exception as e:\n",
    "    print(f\"Failed to load dataset: {e}\")\n",
    "    exit()"
   ]
  },
  {
   "metadata": {},
   "cell_type": "markdown",
   "source": "this is a test to see if I can push to git",
   "id": "d32e7a40fa6a3833"
  }
 ],
 "metadata": {
  "hide_input": false,
  "kernelspec": {
   "display_name": "Python 3 (ipykernel)",
   "language": "python",
   "name": "python3"
  },
  "language_info": {
   "codemirror_mode": {
    "name": "ipython",
    "version": 3
   },
   "file_extension": ".py",
   "mimetype": "text/x-python",
   "name": "python",
   "nbconvert_exporter": "python",
   "pygments_lexer": "ipython3",
   "version": "3.9.13"
  }
 },
 "nbformat": 4,
 "nbformat_minor": 5
}
