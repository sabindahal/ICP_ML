{
 "cells": [
  {
   "cell_type": "code",
   "execution_count": null,
   "id": "e2807ad8",
   "metadata": {},
   "outputs": [],
   "source": [
    "import cv2\n",
    "import numpy as np\n",
    "import pytesseract\n",
    "import easyocr\n",
    "from PIL import Image\n",
    "from datasets import load_dataset"
   ]
  },
  {
   "cell_type": "code",
   "execution_count": null,
   "id": "e5590eac",
   "metadata": {},
   "outputs": [],
   "source": [
    "print(\"--- Loading dataset 'lansinuote/ocr_id_card' ---\")\n",
    "try:\n",
    "    ds = load_dataset(\"lansinuote/ocr_id_card\", split='train')\n",
    "    print(\"Dataset loaded successfully.\")\n",
    "except Exception as e:\n",
    "    print(f\"Failed to load dataset: {e}\")\n",
    "    exit()"
   ]
  }
 ],
 "metadata": {
  "kernelspec": {
   "display_name": "base",
   "language": "python",
   "name": "python3"
  },
  "language_info": {
   "name": "python",
   "version": "3.12.7"
  }
 },
 "nbformat": 4,
 "nbformat_minor": 5
}
